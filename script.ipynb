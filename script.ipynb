{
 "cells": [
  {
   "cell_type": "code",
   "execution_count": 1,
   "id": "c208447b",
   "metadata": {},
   "outputs": [],
   "source": [
    "import numpy as np\n",
    "import matplotlib.pyplot as plt"
   ]
  },
  {
   "cell_type": "code",
   "execution_count": 2,
   "id": "6aeda256",
   "metadata": {},
   "outputs": [],
   "source": [
    "survey_responses = ['Ceballos', 'Kerrigan', 'Ceballos', 'Ceballos', 'Ceballos','Kerrigan', 'Kerrigan', 'Ceballos', 'Ceballos', 'Ceballos', \n",
    "'Kerrigan', 'Kerrigan', 'Ceballos', 'Ceballos', 'Kerrigan', 'Kerrigan', 'Ceballos', 'Ceballos', 'Kerrigan', 'Kerrigan', 'Kerrigan', 'Kerrigan', 'Kerrigan', 'Kerrigan', 'Ceballos', 'Ceballos', 'Ceballos', 'Ceballos', 'Ceballos', 'Ceballos',\n",
    "'Kerrigan', 'Kerrigan', 'Ceballos', 'Ceballos', 'Ceballos', 'Kerrigan', 'Kerrigan', 'Ceballos', 'Ceballos', 'Kerrigan', 'Kerrigan', 'Ceballos', 'Ceballos', 'Kerrigan', 'Kerrigan', 'Kerrigan', 'Kerrigan', 'Kerrigan', 'Kerrigan', 'Ceballos',\n",
    "'Kerrigan', 'Kerrigan', 'Ceballos', 'Ceballos', 'Ceballos', 'Kerrigan', 'Kerrigan', 'Ceballos', 'Ceballos', 'Kerrigan', 'Kerrigan', 'Ceballos', 'Ceballos', 'Kerrigan', 'Kerrigan', 'Kerrigan', 'Kerrigan', 'Kerrigan', 'Kerrigan', 'Ceballos']"
   ]
  },
  {
   "cell_type": "code",
   "execution_count": 3,
   "id": "cd688202",
   "metadata": {},
   "outputs": [
    {
     "name": "stdout",
     "output_type": "stream",
     "text": [
      "33\n"
     ]
    }
   ],
   "source": [
    "total_ceballos = sum([1 for n in survey_responses if n == \"Ceballos\"])\n",
    "print(total_ceballos)"
   ]
  },
  {
   "cell_type": "code",
   "execution_count": 4,
   "id": "20dc51e8",
   "metadata": {},
   "outputs": [
    {
     "name": "stdout",
     "output_type": "stream",
     "text": [
      "47.14285714285714\n"
     ]
    }
   ],
   "source": [
    "survey_responses_length = float(len(survey_responses))\n",
    "\n",
    "percentage_ceballos = total_ceballos / survey_responses_length * 100\n",
    "print(percentage_ceballos)"
   ]
  },
  {
   "cell_type": "code",
   "execution_count": 5,
   "id": "152db9ef",
   "metadata": {},
   "outputs": [
    {
     "name": "stdout",
     "output_type": "stream",
     "text": [
      "[0.44285714 0.55714286 0.6        ... 0.64285714 0.6        0.6       ]\n"
     ]
    }
   ],
   "source": [
    "possible_surveys = np.random.binomial(survey_responses_length, 0.54, size=10000) / survey_responses_length\n",
    "print(possible_surveys)"
   ]
  },
  {
   "cell_type": "code",
   "execution_count": 6,
   "id": "97cd3b01",
   "metadata": {},
   "outputs": [
    {
     "data": {
      "image/png": "[encoded data removed]",
      "text/plain": [
       "<Figure size 432x288 with 1 Axes>"
      ]
     },
     "metadata": {
      "needs_background": "light"
     },
     "output_type": "display_data"
    }
   ],
   "source": [
    "plt.hist(possible_surveys, range=(0, 1), bins=20)\n",
    "plt.show()"
   ]
  },
  {
   "cell_type": "code",
   "execution_count": 7,
   "id": "4cfaf5dc",
   "metadata": {},
   "outputs": [
    {
     "name": "stdout",
     "output_type": "stream",
     "text": [
      "0.2127\n"
     ]
    }
   ],
   "source": [
    "ceballos_loss_surveys = np.mean(possible_surveys < 0.5)\n",
    "print(ceballos_loss_surveys)"
   ]
  },
  {
   "cell_type": "code",
   "execution_count": 9,
   "id": "247e18ce",
   "metadata": {},
   "outputs": [
    {
     "name": "stdout",
     "output_type": "stream",
     "text": [
      "[0.56228571 0.53528571 0.53814286 ... 0.537      0.53385714 0.54914286]\n"
     ]
    }
   ],
   "source": [
    "large_survey = np.random.binomial(float(7000), 0.54, size=10000) / float(7000)\n",
    "print(large_survey)"
   ]
  },
  {
   "cell_type": "code",
   "execution_count": 10,
   "id": "1e924518",
   "metadata": {},
   "outputs": [
    {
     "name": "stdout",
     "output_type": "stream",
     "text": [
      "0.0\n"
     ]
    }
   ],
   "source": [
    "ceballos_loss_new = np.mean(large_survey < 0.5)\n",
    "print(ceballos_loss_new)"
   ]
  },
  {
   "cell_type": "code",
   "execution_count": null,
   "id": "85fd3355",
   "metadata": {},
   "outputs": [],
   "source": []
  }
 ],
 "metadata": {
  "kernelspec": {
   "display_name": "Python 3",
   "language": "python",
   "name": "python3"
  },
  "language_info": {
   "codemirror_mode": {
    "name": "ipython",
    "version": 3
   },
   "file_extension": ".py",
   "mimetype": "text/x-python",
   "name": "python",
   "nbconvert_exporter": "python",
   "pygments_lexer": "ipython3",
   "version": "3.8.8"
  }
 },
 "nbformat": 4,
 "nbformat_minor": 5
}
